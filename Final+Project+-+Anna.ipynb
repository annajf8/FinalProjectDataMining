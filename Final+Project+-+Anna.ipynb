{
 "cells": [
  {
   "cell_type": "code",
   "execution_count": null,
   "metadata": {},
   "outputs": [],
   "source": [
    "import pandas as pd\n",
    "import numpy as np\n",
    "import statistics as stat\n",
    "from lxml import html\n",
    "import requests\n",
    "from bs4 import BeautifulSoup\n",
    "import csv\n",
    "import re\n",
    "import nltk\n",
    "import warnings\n",
    "warnings.filterwarnings('ignore')\n",
    "from nltk.sentiment.vader import SentimentIntensityAnalyzer\n",
    "#nltk.download('vader_lexicon')\n",
    "\n",
    "\n",
    "%matplotlib inline"
   ]
  },
  {
   "cell_type": "code",
   "execution_count": null,
   "metadata": {},
   "outputs": [],
   "source": [
    "def remove_html_tags(text):\n",
    "    \"\"\"Remove html tags from a string\"\"\"\n",
    "    clean = re.compile('<.*?>')\n",
    "    text_nt = re.sub(clean, '', text)\n",
    "    return text_nt"
   ]
  },
  {
   "cell_type": "code",
   "execution_count": null,
   "metadata": {},
   "outputs": [],
   "source": [
    "def sentiment_comment_text(url):\n",
    "    \"\"\"Takes Lobste'rs URL and returns sentiment score and text of post comments\"\"\"\n",
    "    page = requests.get(url, timeout=5)\n",
    "    #brew the soup\n",
    "    soup = BeautifulSoup(page.text)\n",
    "    #find all comments on Lobste.rs post\n",
    "    comment_text = str(soup.find_all('p'))\n",
    "    #get rid of html tags\n",
    "    comment_text = remove_html_tags(comment_text)\n",
    "    sia = SentimentIntensityAnalyzer()\n",
    "    #run the sentiment analysis\n",
    "    sentiment_score = sia.polarity_scores(comment_text)['compound']\n",
    "    return pd.Series((comment_text, sentiment_score ))"
   ]
  },
  {
   "cell_type": "code",
   "execution_count": null,
   "metadata": {
    "collapsed": true
   },
   "outputs": [],
   "source": [
    "df[['comment_text','comment_sentiment']] = df['comments_url'].apply(sentiment_comment_text)"
   ]
  },
  {
   "cell_type": "code",
   "execution_count": null,
   "metadata": {
    "collapsed": true
   },
   "outputs": [],
   "source": [
    "df = pd.read_csv('C:/Users/sam_a/Downloads/uf-data-analytics-project/lobsters_full_2017_cleaned.csv', index_col='Unnamed: 0')"
   ]
  },
  {
   "cell_type": "code",
   "execution_count": null,
   "metadata": {},
   "outputs": [],
   "source": [
    "#add new engagement score column\n",
    "df[\"engagement_score\"] = df[\"upvotes\"] + df[\"downvotes\"] + df[\"comment_count\"]"
   ]
  },
  {
   "cell_type": "code",
   "execution_count": null,
   "metadata": {},
   "outputs": [],
   "source": [
    "df.head()"
   ]
  },
  {
   "cell_type": "code",
   "execution_count": null,
   "metadata": {
    "collapsed": true
   },
   "outputs": [],
   "source": [
    "#save original df\n",
    "og_df = df"
   ]
  },
  {
   "cell_type": "code",
   "execution_count": null,
   "metadata": {
    "collapsed": true
   },
   "outputs": [],
   "source": [
    "df['engagement_score'].hist()"
   ]
  },
  {
   "cell_type": "code",
   "execution_count": null,
   "metadata": {},
   "outputs": [],
   "source": [
    "#Chart engagement score by usn\n",
    "total_engagement_score_by_usn = df.groupby('username')['engagement_score'].sum()\n",
    "print(total_engagement_score_by_usn)\n",
    "total_engagement_score_by_usn.plot()"
   ]
  },
  {
   "cell_type": "code",
   "execution_count": null,
   "metadata": {},
   "outputs": [],
   "source": [
    "#chart number of posts by usn\n",
    "total_posts_by_usn = df.groupby('username')['engagement_score'].count()\n",
    "df= total_posts_by_usn\n",
    "total_posts_by_usn = df.drop(df[df < 5].index)\n",
    "print(total_posts_by_usn)\n",
    "total_posts_by_usn.plot()"
   ]
  },
  {
   "cell_type": "code",
   "execution_count": null,
   "metadata": {
    "collapsed": true
   },
   "outputs": [],
   "source": [
    "#Find average post engagement per username\n",
    "avg_engagement_by_user = total_engagement_score_by_usn / total_posts_by_usn\n",
    "avg_engagement_by_user = avg_engagement_by_user.dropna()\n",
    "print(avg_engagement_by_user)"
   ]
  },
  {
   "cell_type": "code",
   "execution_count": null,
   "metadata": {
    "collapsed": true
   },
   "outputs": [],
   "source": [
    "#find the standard deviation of the engagement score\n",
    "stdev_avg_engagement = stat.stdev(avg_engagement_by_user)\n",
    "print(stdev_avg_engagement)"
   ]
  },
  {
   "cell_type": "code",
   "execution_count": null,
   "metadata": {},
   "outputs": [],
   "source": [
    "#mean of th engagement score\n",
    "mean_avg_engagement = stat.mean(avg_engagement_by_user)\n",
    "print(mean_avg_engagement)"
   ]
  },
  {
   "cell_type": "code",
   "execution_count": null,
   "metadata": {
    "collapsed": true
   },
   "outputs": [],
   "source": [
    "#find standard deviation levels\n",
    "one_eng_stdev = stdev_avg_engagement + mean_avg_engagement\n",
    "two_eng_stdev = (stdev_avg_engagement*2) + mean_avg_engagement\n",
    "three_eng_stdev = (stdev_avg_engagement*3) + mean_avg_engagement"
   ]
  },
  {
   "cell_type": "code",
   "execution_count": null,
   "metadata": {},
   "outputs": [],
   "source": [
    "df= avg_engagement_by_user"
   ]
  },
  {
   "cell_type": "code",
   "execution_count": null,
   "metadata": {
    "collapsed": true
   },
   "outputs": [],
   "source": [
    "stdev1df = df.drop(df[df < one_eng_stdev].index)\n",
    "stdev2df = df.drop(df[df < two_eng_stdev].index)\n",
    "stdev3df = df.drop(df[df < three_eng_stdev].index)"
   ]
  },
  {
   "cell_type": "code",
   "execution_count": null,
   "metadata": {
    "collapsed": true
   },
   "outputs": [],
   "source": [
    "print(stdev1df)\n",
    "stdev1df.plot(kind= 'bar')"
   ]
  },
  {
   "cell_type": "code",
   "execution_count": null,
   "metadata": {
    "collapsed": true
   },
   "outputs": [],
   "source": [
    "print(stdev2df)\n",
    "stdev1df.plot(kind= 'bar')"
   ]
  },
  {
   "cell_type": "code",
   "execution_count": null,
   "metadata": {
    "collapsed": true
   },
   "outputs": [],
   "source": [
    "print(stdev3df)\n",
    "stdev1df.plot(kind= 'bar')"
   ]
  },
  {
   "cell_type": "code",
   "execution_count": null,
   "metadata": {
    "collapsed": true
   },
   "outputs": [],
   "source": [
    "df = og_df"
   ]
  },
  {
   "cell_type": "code",
   "execution_count": null,
   "metadata": {},
   "outputs": [],
   "source": [
    "df.head()"
   ]
  },
  {
   "cell_type": "code",
   "execution_count": null,
   "metadata": {},
   "outputs": [],
   "source": [
    "#df = df.drop(df[df.comment_count < 1].index)\n",
    "#comment_page = df['comments_url'].values\n",
    "#comment_page= comment_page.tolist()"
   ]
  },
  {
   "cell_type": "code",
   "execution_count": null,
   "metadata": {},
   "outputs": [],
   "source": [
    "#temp for working past bottleneck\n",
    "#comment_page = 'https://lobste.rs/s/002cgs/resilience_ruby'"
   ]
  },
  {
   "cell_type": "code",
   "execution_count": null,
   "metadata": {
    "collapsed": true
   },
   "outputs": [],
   "source": [
    "#attemped for loop\n",
    "'''#read webpage \n",
    "for URL in comment_page:\n",
    "    try:\n",
    "        page = requests.get(row[2], timeout=5)\n",
    "    except (requests.ConnectionError, requests.HTTPError, requests.Timeout) as e:\n",
    "        logging.exception(e)\n",
    "    except requests.RequestException as e:\n",
    "        logging.exception(e) \n",
    "        sys.exit(1)  '''"
   ]
  },
  {
   "cell_type": "code",
   "execution_count": null,
   "metadata": {},
   "outputs": [],
   "source": [
    "sentiment_comment_text(comment_page)"
   ]
  },
  {
   "cell_type": "code",
   "execution_count": null,
   "metadata": {},
   "outputs": [],
   "source": [
    "og_df.head()"
   ]
  },
  {
   "cell_type": "code",
   "execution_count": null,
   "metadata": {},
   "outputs": [],
   "source": [
    "#og_df['engagement_score'].corr(og_df['comment_sentiment'])"
   ]
  },
  {
   "cell_type": "code",
   "execution_count": null,
   "metadata": {},
   "outputs": [],
   "source": []
  },
  {
   "cell_type": "code",
   "execution_count": null,
   "metadata": {},
   "outputs": [],
   "source": []
  }
 ],
 "metadata": {
  "kernelspec": {
   "display_name": "Python 3",
   "language": "python",
   "name": "python3"
  },
  "language_info": {
   "codemirror_mode": {
    "name": "ipython",
    "version": 3
   },
   "file_extension": ".py",
   "mimetype": "text/x-python",
   "name": "python",
   "nbconvert_exporter": "python",
   "pygments_lexer": "ipython3",
   "version": "3.6.1"
  }
 },
 "nbformat": 4,
 "nbformat_minor": 2
}

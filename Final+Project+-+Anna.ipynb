{
 "cells": [
  {
   "cell_type": "code",
   "execution_count": null,
   "metadata": {},
   "outputs": [],
   "source": [
    "import pandas as pd\n",
    "import numpy as np\n",
    "import statistics as stat\n",
    "from lxml import html\n",
    "import requests\n",
    "from bs4 import BeautifulSoup\n",
    "\n",
    "\n",
    "%matplotlib inline"
   ]
  },
  {
   "cell_type": "code",
   "execution_count": null,
   "metadata": {
    "collapsed": true
   },
   "outputs": [],
   "source": [
    "df = pd.read_csv('C:/Users/sam_a/Desktop/uf-data-mining-and-analysis-master/data/lobsters_full_2017_cleaned.csv')"
   ]
  },
  {
   "cell_type": "code",
   "execution_count": null,
   "metadata": {},
   "outputs": [],
   "source": [
    "df.head()"
   ]
  },
  {
   "cell_type": "code",
   "execution_count": null,
   "metadata": {
    "collapsed": true
   },
   "outputs": [],
   "source": [
    "#add new engagement score column\n",
    "df[\"engagement_score\"] = df[\"upvotes\"] + df[\"downvotes\"] + df[\"comment_count\"]"
   ]
  },
  {
   "cell_type": "code",
   "execution_count": null,
   "metadata": {},
   "outputs": [],
   "source": [
    "df.head()"
   ]
  },
  {
   "cell_type": "code",
   "execution_count": null,
   "metadata": {
    "collapsed": true
   },
   "outputs": [],
   "source": [
    "#set index\n",
    "df = df.set_index('Unnamed: 0')"
   ]
  },
  {
   "cell_type": "code",
   "execution_count": null,
   "metadata": {
    "collapsed": true
   },
   "outputs": [],
   "source": [
    "#df.to_csv(r'C:\\Users\\Anna\\Documents\\Spring 2019\\uf-data-mining-and-analysis-master\\data\\lobsters_full_2017_cleaned_FINALPROJECT.csv')"
   ]
  },
  {
   "cell_type": "code",
   "execution_count": null,
   "metadata": {},
   "outputs": [],
   "source": [
    "df['engagement_score'].hist()"
   ]
  },
  {
   "cell_type": "code",
   "execution_count": null,
   "metadata": {},
   "outputs": [],
   "source": [
    "#Chart engagement score by usn\n",
    "total_engagement_score_by_usn = df.groupby('username')['engagement_score'].sum()\n",
    "print(total_engagement_score_by_usn)\n",
    "total_engagement_score_by_usn.plot(kind ='bar')"
   ]
  },
  {
   "cell_type": "code",
   "execution_count": null,
   "metadata": {},
   "outputs": [],
   "source": [
    "#chart number of posts by usn\n",
    "total_posts_by_usn = df.groupby('username')['engagement_score'].count()\n",
    "print(total_posts_by_usn)\n",
    "total_posts_by_usn.plot(kind ='bar')"
   ]
  },
  {
   "cell_type": "code",
   "execution_count": null,
   "metadata": {},
   "outputs": [],
   "source": [
    "#Find average post engagement per username\n",
    "avg_engagement_by_user = total_engagement_score_by_usn / total_posts_by_usn\n",
    "print(avg_engagement_by_user)"
   ]
  },
  {
   "cell_type": "code",
   "execution_count": null,
   "metadata": {},
   "outputs": [],
   "source": [
    "#find the standard deviation of the engagement score\n",
    "stdev_avg_engagement = stat.stdev(avg_engagement_by_user)\n",
    "print(stdev_avg_engagement)"
   ]
  },
  {
   "cell_type": "code",
   "execution_count": null,
   "metadata": {},
   "outputs": [],
   "source": [
    "#mean of th engagement score\n",
    "mean_avg_engagement = stat.mean(avg_engagement_by_user)\n",
    "print(mean_avg_engagement)"
   ]
  },
  {
   "cell_type": "code",
   "execution_count": null,
   "metadata": {
    "collapsed": true
   },
   "outputs": [],
   "source": [
    "#find standard deviation levels\n",
    "one_eng_stdev = stdev_avg_engagement + mean_avg_engagement\n",
    "two_eng_stdev = (stdev_avg_engagement*2) + mean_avg_engagement\n",
    "three_eng_stdev = (stdev_avg_engagement*3) + mean_avg_engagement"
   ]
  },
  {
   "cell_type": "code",
   "execution_count": null,
   "metadata": {
    "collapsed": true
   },
   "outputs": [],
   "source": [
    "stdev1df = avg_engagement_by_user \n",
    "stdev2df = avg_engagement_by_user \n",
    "stdev3df = avg_engagement_by_user "
   ]
  },
  {
   "cell_type": "code",
   "execution_count": null,
   "metadata": {
    "collapsed": true
   },
   "outputs": [],
   "source": [
    "# Get names of indexes \n",
    "indexNames1 = [stdev1df <= one_eng_stdev].index\n",
    "indexNames2 = [stdev2df <= two_eng_stdev].index\n",
    "indexNames3 = [stdev3df <= three_eng_stdev].index"
   ]
  },
  {
   "cell_type": "code",
   "execution_count": null,
   "metadata": {},
   "outputs": [],
   "source": [
    "# Delete these row indexes from dataFrame\n",
    "stdev1df.drop(indexNames1 , inplace=True)\n",
    "stdev2df.drop(indexNames2 , inplace=True)\n",
    "stdev3df.drop(indexNames3 , inplace=True)"
   ]
  },
  {
   "cell_type": "code",
   "execution_count": null,
   "metadata": {
    "collapsed": true
   },
   "outputs": [],
   "source": [
    "#make comment url a string to be parsed by requests\n",
    "df['comments_url'] = df['comments_url'].astype('str')"
   ]
  },
  {
   "cell_type": "code",
   "execution_count": null,
   "metadata": {},
   "outputs": [],
   "source": [
    "comment_page = [df['comments_url']]"
   ]
  },
  {
   "cell_type": "code",
   "execution_count": null,
   "metadata": {},
   "outputs": [],
   "source": [
    "df.head()"
   ]
  },
  {
   "cell_type": "code",
   "execution_count": null,
   "metadata": {},
   "outputs": [],
   "source": [
    "#read webpage html\n",
    "page = requests.get(comment_page)"
   ]
  },
  {
   "cell_type": "code",
   "execution_count": null,
   "metadata": {},
   "outputs": [],
   "source": [
    "#brew the soup\n",
    "soup = BeautifulSoup(page.content 'lmxl')"
   ]
  },
  {
   "cell_type": "code",
   "execution_count": null,
   "metadata": {},
   "outputs": [],
   "source": [
    "#find all comments on Lobste.rs post\n",
    "df['comment_text']= soup.find_all('div class=\"comment_text\"')"
   ]
  },
  {
   "cell_type": "code",
   "execution_count": null,
   "metadata": {
    "collapsed": true
   },
   "outputs": [],
   "source": []
  }
 ],
 "metadata": {
  "kernelspec": {
   "display_name": "Python 3",
   "language": "python",
   "name": "python3"
  },
  "language_info": {
   "codemirror_mode": {
    "name": "ipython",
    "version": 3
   },
   "file_extension": ".py",
   "mimetype": "text/x-python",
   "name": "python",
   "nbconvert_exporter": "python",
   "pygments_lexer": "ipython3",
   "version": "3.6.1"
  }
 },
 "nbformat": 4,
 "nbformat_minor": 2
}

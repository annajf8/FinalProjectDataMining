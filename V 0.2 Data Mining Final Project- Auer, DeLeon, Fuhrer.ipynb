{
 "cells": [
  {
   "cell_type": "code",
   "execution_count": null,
   "metadata": {},
   "outputs": [],
   "source": [
    "import pandas as pd\n",
    "import numpy as np\n",
    "import statistics as stat\n",
    "import requests\n",
    "import csv\n",
    "import re\n",
    "import nltk\n",
    "import time\n",
    "import warnings\n",
    "warnings.filterwarnings('ignore')\n",
    "\n",
    "from lxml import html\n",
    "from bs4 import BeautifulSoup\n",
    "from nltk.sentiment.vader import SentimentIntensityAnalyzer\n",
    "\n",
    "#Download this once if you have never before\n",
    "nltk.download('vader_lexicon')\n",
    "\n",
    "\n",
    "%matplotlib inline"
   ]
  },
  {
   "cell_type": "markdown",
   "metadata": {},
   "source": [
    "This code looks into the site data for Lobste.rs and adds the features of engagement score and comment\n",
    "sentiment to better get an idea of the users who are most active and produce the most engagement and \n",
    "positivety on a whole. They will be combined with survery data to create profiles on certain types of\n",
    "users on the Lobste. site."
   ]
  },
  {
   "cell_type": "code",
   "execution_count": null,
   "metadata": {
    "collapsed": true
   },
   "outputs": [],
   "source": [
    "#Please make sure that you have this dataset before running, it is not included within the repository\n",
    "df = pd.read_csv('../uf-data-analytics-project/lobsters_full_2017_cleaned.csv', index_col='Unnamed: 0')"
   ]
  },
  {
   "cell_type": "markdown",
   "metadata": {},
   "source": [
    "The engagement score metric is a combination of all major actions that a user can take in response to a post. We chose to include all responses, negative and postiive, in order to indentify those that will bring the most users that are more likely to respond to calls to action placed by marketers on\n",
    "the site"
   ]
  },
  {
   "cell_type": "code",
   "execution_count": null,
   "metadata": {},
   "outputs": [],
   "source": [
    "#add engagement score feature\n",
    "df[\"engagement_score\"] = df[\"upvotes\"] + df[\"downvotes\"] + df[\"comment_count\"]"
   ]
  },
  {
   "cell_type": "code",
   "execution_count": null,
   "metadata": {
    "collapsed": true
   },
   "outputs": [],
   "source": [
    "#save original df \n",
    "og_df = df"
   ]
  },
  {
   "cell_type": "code",
   "execution_count": null,
   "metadata": {},
   "outputs": [],
   "source": [
    "df.head()"
   ]
  },
  {
   "cell_type": "code",
   "execution_count": null,
   "metadata": {
    "collapsed": true
   },
   "outputs": [],
   "source": [
    "#remove all rows without comments to speed sentiment analysis and beause we want to look at popular posts\n",
    "#Will not effect other features\n",
    "df= df.drop(df[df['comment_count'] < 1].index)"
   ]
  },
  {
   "cell_type": "markdown",
   "metadata": {},
   "source": [
    "Functions"
   ]
  },
  {
   "cell_type": "markdown",
   "metadata": {},
   "source": [
    "We decided to use comment sentiment score as our other feature in order to garner those who create \n",
    "positive discussion on the site, something that is more valuable in the eyes of advertising firms. \n",
    "These two features can and most likely will overlap in some users, resulting in those that will be most profitable to cultivate and study closer."
   ]
  },
  {
   "cell_type": "code",
   "execution_count": null,
   "metadata": {},
   "outputs": [],
   "source": [
    "def remove_html_tags(text):\n",
    "    \"\"\"Removes html tags from a string\"\"\"\n",
    "    clean = re.compile('<.*?>')\n",
    "    text_nt = re.sub(clean, '', text)\n",
    "    return text_nt"
   ]
  },
  {
   "cell_type": "code",
   "execution_count": null,
   "metadata": {},
   "outputs": [],
   "source": [
    "def sentiment_comment_text(url):\n",
    "    \"\"\"Takes Lobste'rs URL and returns sentiment score and text of post comments\"\"\"\n",
    "    page = requests.get(url, timeout=100)\n",
    "    #brew the soup\n",
    "    soup = BeautifulSoup(page.text)\n",
    "    #find all comments on Lobste.rs post\n",
    "    comment_text = str(soup.find_all('p'))\n",
    "    #get rid of html tags\n",
    "    comment_text = remove_html_tags(comment_text)\n",
    "    sia = SentimentIntensityAnalyzer()\n",
    "    #run the sentiment analysis\n",
    "    sentiment_score = sia.polarity_scores(comment_text)['compound']\n",
    "    return pd.Series((comment_text, sentiment_score ))"
   ]
  },
  {
   "cell_type": "code",
   "execution_count": null,
   "metadata": {},
   "outputs": [],
   "source": [
    "#Applying Functions\n",
    "start = time.time()\n",
    "#adding the comment_text and comment_sentiment columns to the dataframe\n",
    "df[['comment_text','comment_sentiment']] = df['comments_url'].apply(sentiment_comment_text)\n",
    "end = time.time()\n",
    "print(end - start, 'seconds for cell to run')"
   ]
  },
  {
   "cell_type": "markdown",
   "metadata": {},
   "source": [
    "Stats"
   ]
  },
  {
   "cell_type": "code",
   "execution_count": null,
   "metadata": {
    "collapsed": true
   },
   "outputs": [],
   "source": [
    "#grouping the data by username and summing the engagement scores will highlight the whales\n",
    "total_engagement_score_by_usn = df.groupby('username')['engagement_score'].sum()"
   ]
  },
  {
   "cell_type": "code",
   "execution_count": null,
   "metadata": {},
   "outputs": [],
   "source": [
    "#grouping by comment sentiment shows those who have produces the mose positive comments on the site\n",
    "total_comment_sentiment = df.groupby('username')['comment_sentiment']"
   ]
  },
  {
   "cell_type": "code",
   "execution_count": null,
   "metadata": {},
   "outputs": [],
   "source": [
    "#count the total posts by each username, dropping those who have not posted often \n",
    "total_posts_by_usn = df.groupby('username')['engagement_score'].count()\n",
    "df= total_posts_by_usn\n",
    "total_posts_by_usn_ = df.drop(df[df < 10].index)"
   ]
  },
  {
   "cell_type": "code",
   "execution_count": null,
   "metadata": {
    "collapsed": true
   },
   "outputs": [],
   "source": [
    "#Find average post engagement per username, if they have posted 10 or more times\n",
    "avg_engagement_by_user = total_engagement_score_by_usn / total_posts_by_usn\n",
    "avg_engagement_by_user = avg_engagement_by_user.dropna()"
   ]
  },
  {
   "cell_type": "code",
   "execution_count": null,
   "metadata": {},
   "outputs": [],
   "source": [
    "#Find average commentiment per post per username if they have posted 10 or more times\n",
    "avg_postsent_by_user = total_comment_sentiment / total_posts_by_usn\n",
    "avg_postsent_by_user = avg_postsent_by_user.dropna()"
   ]
  },
  {
   "cell_type": "code",
   "execution_count": null,
   "metadata": {
    "collapsed": true
   },
   "outputs": [],
   "source": [
    "#df = og_df"
   ]
  },
  {
   "cell_type": "code",
   "execution_count": null,
   "metadata": {},
   "outputs": [],
   "source": [
    "#find the standard deviation of the engagement score\n",
    "stdev_avg_engagement = stat.stdev(avg_engagement_by_user)\n",
    "print(stdev_avg_engagement)"
   ]
  },
  {
   "cell_type": "code",
   "execution_count": null,
   "metadata": {},
   "outputs": [],
   "source": [
    "#find the standard deviation of the comment sentiment\n",
    "stdev_comsent = stat.stdev(avg_postsent_by_user)\n",
    "print(stdev_comsent)"
   ]
  },
  {
   "cell_type": "code",
   "execution_count": null,
   "metadata": {},
   "outputs": [],
   "source": [
    "#mean of the engagement score\n",
    "mean_avg_engagement = stat.mean(avg_engagement_by_user)\n",
    "print(mean_avg_engagement)"
   ]
  },
  {
   "cell_type": "code",
   "execution_count": null,
   "metadata": {},
   "outputs": [],
   "source": [
    "#mean of the comment sentiment\n",
    "mean_comsent = stat.mean(avg_postsent_by_user)\n",
    "print(mean_comsent)"
   ]
  },
  {
   "cell_type": "code",
   "execution_count": null,
   "metadata": {
    "collapsed": true
   },
   "outputs": [],
   "source": [
    "#find engagement score standard deviation levels\n",
    "one_eng_stdev = stdev_avg_engagement + mean_avg_engagement\n",
    "two_eng_stdev = (stdev_avg_engagement*2) + mean_avg_engagement\n",
    "three_eng_stdev = (stdev_avg_engagement*3) + mean_avg_engagement"
   ]
  },
  {
   "cell_type": "code",
   "execution_count": null,
   "metadata": {},
   "outputs": [],
   "source": [
    "stdev1df = df.drop(df[df < one_eng_stdev].index)\n",
    "stdev2df = df.drop(df[df < two_eng_stdev].index)\n",
    "stdev3df = df.drop(df[df < three_eng_stdev].index)"
   ]
  },
  {
   "cell_type": "code",
   "execution_count": null,
   "metadata": {},
   "outputs": [],
   "source": [
    "#find comment sentiment standard deviation levels\n",
    "one_comsent_stdev = stdev_comsent +mean_comsent\n",
    "two_comsent_stdev = (stdev_comsent*2) + mean_comsent\n",
    "three_comsent_stdev = (stdev_comsent*3) + mean_comsent\n",
    "stdev1dfcs = df.drop(df[df < one_comsent_stdev].index)\n",
    "stdev2dfcs = df.drop(df[df < two_comsent_stdev].index)\n",
    "stdev3dfcs = df.drop(df[df < three_comsent_stdev].index)"
   ]
  },
  {
   "cell_type": "code",
   "execution_count": null,
   "metadata": {},
   "outputs": [],
   "source": [
    "#the correlation between our two created featuers\n",
    "#there is some positive correlaiton but it is not strong\n",
    "df['engagement_score'].corr(df['comment_sentiment'])"
   ]
  },
  {
   "cell_type": "markdown",
   "metadata": {},
   "source": [
    "User Data: Usernames and scores for each divison for analysis"
   ]
  },
  {
   "cell_type": "code",
   "execution_count": null,
   "metadata": {},
   "outputs": [],
   "source": [
    "#total engagement score per username\n",
    "print(total_engagement_score_by_usn)"
   ]
  },
  {
   "cell_type": "code",
   "execution_count": null,
   "metadata": {
    "collapsed": true
   },
   "outputs": [],
   "source": [
    "#total comment sentitment per username\n",
    "print(total_comment_sentiment)"
   ]
  },
  {
   "cell_type": "code",
   "execution_count": null,
   "metadata": {
    "scrolled": false
   },
   "outputs": [],
   "source": [
    "#number of posts by usernmae\n",
    "print(total_posts_by_usn)"
   ]
  },
  {
   "cell_type": "code",
   "execution_count": null,
   "metadata": {},
   "outputs": [],
   "source": [
    "#average post engagement per username\n",
    "print(avg_engagement_by_user)"
   ]
  },
  {
   "cell_type": "code",
   "execution_count": null,
   "metadata": {
    "collapsed": true
   },
   "outputs": [],
   "source": [
    "#average post sentiment by user for use in determining posters that create most positive community reaction\n",
    "print(avg_postsent_by_user)"
   ]
  },
  {
   "cell_type": "code",
   "execution_count": null,
   "metadata": {},
   "outputs": [],
   "source": [
    "#Usernames 1 or more standard deviations from the average post engagement score mean\n",
    "print(stdev1df)"
   ]
  },
  {
   "cell_type": "code",
   "execution_count": null,
   "metadata": {},
   "outputs": [],
   "source": [
    "#Usernames 2 or more standard deviations from the average post engagement score mean\n",
    "print(stdev2df)"
   ]
  },
  {
   "cell_type": "code",
   "execution_count": null,
   "metadata": {},
   "outputs": [],
   "source": [
    "#Usernames 3 or more standard deviations from the average post engagement score mean\n",
    "print(stdev3df)"
   ]
  },
  {
   "cell_type": "code",
   "execution_count": null,
   "metadata": {
    "collapsed": true
   },
   "outputs": [],
   "source": [
    "#Usernames 1 or more standard deviations from the average post comment sentiment mean\n",
    "print(stdev1dfcs)"
   ]
  },
  {
   "cell_type": "code",
   "execution_count": null,
   "metadata": {
    "collapsed": true
   },
   "outputs": [],
   "source": [
    "#Usernames 2 or more standard deviations from the average post comment sentiment mean\n",
    "print(stdev2dfcs)"
   ]
  },
  {
   "cell_type": "code",
   "execution_count": null,
   "metadata": {
    "collapsed": true
   },
   "outputs": [],
   "source": [
    "#Usernames 1 or more standard deviations from the average post comment sentiment mean\n",
    "print(stdev3dfcs)"
   ]
  },
  {
   "cell_type": "markdown",
   "metadata": {},
   "source": [
    "Visualizations"
   ]
  },
  {
   "cell_type": "markdown",
   "metadata": {},
   "source": [
    "These visualizations give us good insight into the makeup of the users and the those that produce the most popular posts. You can see how there are a small section of targeted users that make up most of the posting and have the highest sentiment scores."
   ]
  },
  {
   "cell_type": "code",
   "execution_count": null,
   "metadata": {},
   "outputs": [],
   "source": [
    "#engagement score for all posts\n",
    "df['engagement_score'].hist()"
   ]
  },
  {
   "cell_type": "code",
   "execution_count": null,
   "metadata": {
    "collapsed": true
   },
   "outputs": [],
   "source": [
    "#total comment sentiment by username\n",
    "total_comment_sentiment.hist()"
   ]
  },
  {
   "cell_type": "code",
   "execution_count": null,
   "metadata": {},
   "outputs": [],
   "source": [
    "#total engagement score by username \n",
    "total_engagement_score_by_usn.hist()"
   ]
  },
  {
   "cell_type": "code",
   "execution_count": null,
   "metadata": {},
   "outputs": [],
   "source": [
    "#total posts in dataset by username\n",
    "total_posts_by_usn.hist()"
   ]
  },
  {
   "cell_type": "code",
   "execution_count": null,
   "metadata": {},
   "outputs": [],
   "source": [
    "#average post engagement score by username\n",
    "avg_engagement_by_user.hist()"
   ]
  },
  {
   "cell_type": "code",
   "execution_count": null,
   "metadata": {
    "collapsed": true
   },
   "outputs": [],
   "source": [
    "#average post comment sentiment by username\n",
    "avg_postsent_by_user.hist()"
   ]
  },
  {
   "cell_type": "code",
   "execution_count": null,
   "metadata": {},
   "outputs": [],
   "source": [
    "#average post engagement scores by username 1 or more standard deviations above the mean\n",
    "stdev1df.hist()"
   ]
  },
  {
   "cell_type": "code",
   "execution_count": null,
   "metadata": {},
   "outputs": [],
   "source": [
    "#average post engagement scores by username 2 or more standard deviations above the mean\n",
    "stdev2df.hist()"
   ]
  },
  {
   "cell_type": "code",
   "execution_count": null,
   "metadata": {},
   "outputs": [],
   "source": [
    "#average post engagement scores by username 3 or more standard deviations above the mean\n",
    "stdev3df.hist()"
   ]
  },
  {
   "cell_type": "code",
   "execution_count": null,
   "metadata": {
    "collapsed": true
   },
   "outputs": [],
   "source": [
    "#average post comment sentiment by username 1 or more standard deviations above the mean\n",
    "stdev1dfcs.hist()"
   ]
  },
  {
   "cell_type": "code",
   "execution_count": null,
   "metadata": {
    "collapsed": true
   },
   "outputs": [],
   "source": [
    "#average post comment sentiment by username 2 or more standard deviations above the mean\n",
    "stdev1dfcs.hist()"
   ]
  },
  {
   "cell_type": "code",
   "execution_count": null,
   "metadata": {
    "collapsed": true
   },
   "outputs": [],
   "source": [
    "#average post comment sentiment by username 3 or more standard deviations above the mean\n",
    "stdev1dfcs.hist()"
   ]
  }
 ],
 "metadata": {
  "kernelspec": {
   "display_name": "Python 3",
   "language": "python",
   "name": "python3"
  },
  "language_info": {
   "codemirror_mode": {
    "name": "ipython",
    "version": 3
   },
   "file_extension": ".py",
   "mimetype": "text/x-python",
   "name": "python",
   "nbconvert_exporter": "python",
   "pygments_lexer": "ipython3",
   "version": "3.6.1"
  }
 },
 "nbformat": 4,
 "nbformat_minor": 2
}
